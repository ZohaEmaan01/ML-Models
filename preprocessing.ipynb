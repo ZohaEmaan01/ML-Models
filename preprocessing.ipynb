import csv
import random

#Loading the csv file.
with open('data.csv', 'r') as file:
    reader = csv.reader(file)
    next(reader)  # Skip header
    data = [row for row in reader]

#Separating independent variables X and dependent variable y.
X = [row[:-1] for row in data]  #excluding Employed column as it is y variable.
y = [row[-1] for row in data]   #y variable index

#Handling missing values in the Income column.
income_values = [float(row[3]) for row in X if row[3]]
mean_income = sum(income_values) / len(income_values)
for row in X:
    if not row[3]: 
        row[3] = str(mean_income)

#Applying One-hot encoding for Education column.
educations = set([row[2] for row in X])
education_dict = {edu: idx for idx, edu in enumerate(educations)}
for row in X:
    education = row[2]
    encoded_education = [0] * len(educations)
    encoded_education[education_dict[education]] = 1
    row[2] = encoded_education

#Encoding categorical data for Gender column.
genders = set([row[1] for row in X])
gender_dict = {gender: idx for idx, gender in enumerate(genders)}
for row in X:
    row[1] = str(gender_dict[row[1]])

#Encoding the Employed column as binary.
for row in X:
    row[-1] = '1' if row[-1] == 'Yes' else '0'

#Splitting data into training and testing sets.
random.seed(0)
indices = [i for i in range(len(X))]
random.shuffle(indices)
split_point = int(0.8 * len(X))
X_train, X_test = [X[i] for i in indices[:split_point]], [X[i] for i in indices[split_point:]]
y_train, y_test = [y[i] for i in indices[:split_point]], [y[i] for i in indices[split_point:]]

#Applying Min-Max scaling on numerical columns.
def min_max_scale(data):
    min_val = min(data)
    max_val = max(data)
    return [(float(val) - min_val) / (max_val - min_val) for val in data]

#Applying Standardization scaling on numerical columns.
def standardize(data):
    mean_val = sum(data) / len(data)
    std_dev = (sum([(val - mean_val) ** 2 for val in data]) / len(data)) ** 0.5
    return [(float(val) - mean_val) / std_dev for val in data]

#Taking index of Age and Income column.
for i in [0, 3]:
    #Min-Max scaling method
    X_train = [min_max_scale([float(row[i]) for row in X_train])]
    X_test = [min_max_scale([float(row[i]) for row in X_test])]
    
    #Standardization scaling method (one is commented out because only one type of scaling can be done at a time.)
    # X_train = [standardize([float(row[i]) for row in X_train])]
    # X_test = [standardize([float(row[i]) for row in X_test])]

print("X_train:")
print(X_train)
print("X_test:")
print(X_test)
