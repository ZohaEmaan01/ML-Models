{
  "nbformat": 4,
  "nbformat_minor": 0,
  "metadata": {
    "colab": {
      "provenance": []
    },
    "kernelspec": {
      "name": "python3",
      "display_name": "Python 3"
    },
    "language_info": {
      "name": "python"
    }
  },
  "cells": [
    {
      "cell_type": "code",
      "execution_count": 1,
      "metadata": {
        "id": "8PIvVHmqx4a8"
      },
      "outputs": [],
      "source": [
        "import numpy as np\n",
        "import matplotlib.pyplot as plt\n",
        "import pandas as pd\n",
        "from sklearn.model_selection import train_test_split\n",
        "from sklearn.preprocessing import StandardScaler\n",
        "from sklearn.ensemble import RandomForestClassifier\n",
        "from sklearn.metrics import confusion_matrix, accuracy_score, precision_score, recall_score, f1_score"
      ]
    },
    {
      "cell_type": "code",
      "source": [
        "#importing dataset\n",
        "url = 'https://archive.ics.uci.edu/ml/machine-learning-databases/iris/iris.data'\n",
        "names = ['sepal_length', 'sepal_width', 'petal_length', 'petal_width', 'species']\n",
        "iris_df = pd.read_csv(url, names=names)"
      ],
      "metadata": {
        "id": "BHAZhayAyV6d"
      },
      "execution_count": 2,
      "outputs": []
    },
    {
      "cell_type": "code",
      "source": [
        "#splitting into X and y variables\n",
        "X = iris_df.iloc[:, :-1]\n",
        "y = iris_df.iloc[:, -1]"
      ],
      "metadata": {
        "id": "x10lVkIqyWDc"
      },
      "execution_count": 3,
      "outputs": []
    },
    {
      "cell_type": "code",
      "source": [
        "#splitting the dataset into 75% training and 25% testing\n",
        "X_train, X_test, y_train, y_test = train_test_split(X, y, test_size=0.25, random_state=0)"
      ],
      "metadata": {
        "id": "Wy0AFP1QylIM"
      },
      "execution_count": 4,
      "outputs": []
    },
    {
      "cell_type": "code",
      "source": [
        "#scaling the features\n",
        "scaler = StandardScaler()\n",
        "X_train = scaler.fit_transform(X_train)\n",
        "X_test = scaler.transform(X_test)"
      ],
      "metadata": {
        "id": "65BgnY0mylLu"
      },
      "execution_count": null,
      "outputs": []
    },
    {
      "cell_type": "code",
      "source": [
        "#hyperparameter tuning and testing\n",
        "n_estimators_values = [50, 100, 150]\n",
        "max_depth_values = [None, 5, 10]\n",
        "random_state_values = [0, 42, 100]\n",
        "\n",
        "best_n_estimators = None\n",
        "best_max_depth = None\n",
        "best_random_state = None\n",
        "best_accuracy = 0.0\n",
        "\n",
        "for n_estimators in n_estimators_values:\n",
        "    for max_depth in max_depth_values:\n",
        "        for random_state in random_state_values:\n",
        "            clf = RandomForestClassifier(n_estimators=n_estimators, max_depth=max_depth, random_state=random_state)\n",
        "            clf.fit(X_train, y_train)\n",
        "            y_pred = clf.predict(X_test)\n",
        "            accuracy = accuracy_score(y_test, y_pred)\n",
        "            print(f\"n_estimators: {n_estimators}, max_depth: {max_depth}, random_state: {random_state}, Accuracy: {accuracy}\")\n",
        "            if accuracy > best_accuracy:\n",
        "                best_n_estimators = n_estimators\n",
        "                best_max_depth = max_depth\n",
        "                best_random_state = random_state\n",
        "                best_accuracy = accuracy\n",
        "\n",
        "#print the best hyperparameters and corresponding best accuracy\n",
        "print(f\"Best n_estimators: {best_n_estimators}, Best max_depth: {best_max_depth}, Best random_state: {best_random_state}, Best Accuracy: {best_accuracy}\")"
      ],
      "metadata": {
        "colab": {
          "base_uri": "https://localhost:8080/"
        },
        "id": "954iU-1lysel",
        "outputId": "562a5c5c-da77-4950-daef-d7989f25af20"
      },
      "execution_count": 10,
      "outputs": [
        {
          "output_type": "stream",
          "name": "stdout",
          "text": [
            "n_estimators: 50, max_depth: None, random_state: 0, Accuracy: 0.9736842105263158\n",
            "n_estimators: 50, max_depth: None, random_state: 42, Accuracy: 0.9736842105263158\n",
            "n_estimators: 50, max_depth: None, random_state: 100, Accuracy: 0.9736842105263158\n",
            "n_estimators: 50, max_depth: 5, random_state: 0, Accuracy: 0.9736842105263158\n",
            "n_estimators: 50, max_depth: 5, random_state: 42, Accuracy: 0.9736842105263158\n",
            "n_estimators: 50, max_depth: 5, random_state: 100, Accuracy: 0.9736842105263158\n",
            "n_estimators: 50, max_depth: 10, random_state: 0, Accuracy: 0.9736842105263158\n",
            "n_estimators: 50, max_depth: 10, random_state: 42, Accuracy: 0.9736842105263158\n",
            "n_estimators: 50, max_depth: 10, random_state: 100, Accuracy: 0.9736842105263158\n",
            "n_estimators: 100, max_depth: None, random_state: 0, Accuracy: 0.9736842105263158\n",
            "n_estimators: 100, max_depth: None, random_state: 42, Accuracy: 0.9736842105263158\n",
            "n_estimators: 100, max_depth: None, random_state: 100, Accuracy: 0.9736842105263158\n",
            "n_estimators: 100, max_depth: 5, random_state: 0, Accuracy: 0.9736842105263158\n",
            "n_estimators: 100, max_depth: 5, random_state: 42, Accuracy: 0.9736842105263158\n",
            "n_estimators: 100, max_depth: 5, random_state: 100, Accuracy: 0.9736842105263158\n",
            "n_estimators: 100, max_depth: 10, random_state: 0, Accuracy: 0.9736842105263158\n",
            "n_estimators: 100, max_depth: 10, random_state: 42, Accuracy: 0.9736842105263158\n",
            "n_estimators: 100, max_depth: 10, random_state: 100, Accuracy: 0.9736842105263158\n",
            "n_estimators: 150, max_depth: None, random_state: 0, Accuracy: 0.9736842105263158\n",
            "n_estimators: 150, max_depth: None, random_state: 42, Accuracy: 0.9736842105263158\n",
            "n_estimators: 150, max_depth: None, random_state: 100, Accuracy: 0.9736842105263158\n",
            "n_estimators: 150, max_depth: 5, random_state: 0, Accuracy: 0.9736842105263158\n",
            "n_estimators: 150, max_depth: 5, random_state: 42, Accuracy: 0.9736842105263158\n",
            "n_estimators: 150, max_depth: 5, random_state: 100, Accuracy: 0.9736842105263158\n",
            "n_estimators: 150, max_depth: 10, random_state: 0, Accuracy: 0.9736842105263158\n",
            "n_estimators: 150, max_depth: 10, random_state: 42, Accuracy: 0.9736842105263158\n",
            "n_estimators: 150, max_depth: 10, random_state: 100, Accuracy: 0.9736842105263158\n",
            "Best n_estimators: 50, Best max_depth: None, Best random_state: 0, Best Accuracy: 0.9736842105263158\n"
          ]
        }
      ]
    },
    {
      "cell_type": "code",
      "source": [
        "#showing confusion matrix\n",
        "from sklearn.metrics import confusion_matrix\n",
        "conf_matrix = confusion_matrix(y_test, y_pred)\n",
        "print(\"Confusion Matrix:\")\n",
        "print(conf_matrix)"
      ],
      "metadata": {
        "colab": {
          "base_uri": "https://localhost:8080/"
        },
        "id": "BpeUg4asyskr",
        "outputId": "11f6e417-0527-4ea1-8bcb-a61fa29fa6d0"
      },
      "execution_count": 11,
      "outputs": [
        {
          "output_type": "stream",
          "name": "stdout",
          "text": [
            "Confusion Matrix:\n",
            "[[13  0  0]\n",
            " [ 0 15  1]\n",
            " [ 0  0  9]]\n"
          ]
        }
      ]
    },
    {
      "cell_type": "code",
      "source": [
        "#evaluating the results using appropriate evaluation measures\n",
        "from sklearn.metrics import accuracy_score, precision_score, recall_score, f1_score\n",
        "precision = precision_score(y_test, y_pred, average='weighted')\n",
        "recall = recall_score(y_test, y_pred, average='weighted')\n",
        "f1 = f1_score(y_test, y_pred, average='weighted')\n",
        "\n",
        "print(\"Accuracy:\", accuracy)\n",
        "print(\"Precision:\", precision)\n",
        "print(\"Recall:\", recall)\n",
        "print(\"F1-score:\", f1)"
      ],
      "metadata": {
        "colab": {
          "base_uri": "https://localhost:8080/"
        },
        "id": "jwuCt3nWzkGQ",
        "outputId": "ae20f387-b0d2-4357-843a-b5f2e2bf040d"
      },
      "execution_count": 12,
      "outputs": [
        {
          "output_type": "stream",
          "name": "stdout",
          "text": [
            "Accuracy: 0.9736842105263158\n",
            "Precision: 0.9763157894736842\n",
            "Recall: 0.9736842105263158\n",
            "F1-score: 0.9739522830846216\n"
          ]
        }
      ]
    }
  ]
}