{
  "nbformat": 4,
  "nbformat_minor": 0,
  "metadata": {
    "colab": {
      "provenance": []
    },
    "kernelspec": {
      "name": "python3",
      "display_name": "Python 3"
    },
    "language_info": {
      "name": "python"
    }
  },
  "cells": [
    {
      "cell_type": "code",
      "execution_count": 46,
      "metadata": {
        "id": "acCbzfKqkes7"
      },
      "outputs": [],
      "source": [
        "import numpy as np\n",
        "import matplotlib.pyplot as plt\n",
        "import pandas as pd\n",
        "from sklearn.model_selection import train_test_split\n",
        "from sklearn.preprocessing import StandardScaler\n",
        "from sklearn.tree import DecisionTreeClassifier\n",
        "from sklearn.metrics import confusion_matrix, accuracy_score, precision_score, recall_score, f1_score"
      ]
    },
    {
      "cell_type": "code",
      "source": [
        "#importing dataset\n",
        "url = 'https://archive.ics.uci.edu/ml/machine-learning-databases/iris/iris.data'\n",
        "names = ['sepal_length', 'sepal_width', 'petal_length', 'petal_width', 'species']\n",
        "iris_df = pd.read_csv(url,names=names)\n",
        "print(iris_df.head())"
      ],
      "metadata": {
        "colab": {
          "base_uri": "https://localhost:8080/"
        },
        "id": "SRBQswAtkxCt",
        "outputId": "06d45a22-d126-4f2d-c613-90c0551ccbac"
      },
      "execution_count": 47,
      "outputs": [
        {
          "output_type": "stream",
          "name": "stdout",
          "text": [
            "   sepal_length  sepal_width  petal_length  petal_width      species\n",
            "0           5.1          3.5           1.4          0.2  Iris-setosa\n",
            "1           4.9          3.0           1.4          0.2  Iris-setosa\n",
            "2           4.7          3.2           1.3          0.2  Iris-setosa\n",
            "3           4.6          3.1           1.5          0.2  Iris-setosa\n",
            "4           5.0          3.6           1.4          0.2  Iris-setosa\n"
          ]
        }
      ]
    },
    {
      "cell_type": "code",
      "source": [
        "#splitting into X and y variables\n",
        "X = iris_df.iloc[:, :-1]\n",
        "y = iris_df.iloc[:, -1]"
      ],
      "metadata": {
        "id": "yIsts8i0q3xv"
      },
      "execution_count": 48,
      "outputs": []
    },
    {
      "cell_type": "code",
      "source": [
        "#splitting the dataset into 75% training and 25% testing\n",
        "X_train, X_test, y_train, y_test = train_test_split(X, y, test_size=0.25, random_state=0)"
      ],
      "metadata": {
        "id": "RlQh4ZXErIVL"
      },
      "execution_count": 49,
      "outputs": []
    },
    {
      "cell_type": "code",
      "source": [
        "#scaling the features\n",
        "scaler = StandardScaler()\n",
        "X_train = scaler.fit_transform(X_train)\n",
        "X_test = scaler.transform(X_test)"
      ],
      "metadata": {
        "id": "YtcZ9lxzraG4"
      },
      "execution_count": 50,
      "outputs": []
    },
    {
      "cell_type": "code",
      "source": [
        "#hyperparameter's testing and tuning\n",
        "depths = [None, 3, 5, 10, 15, 20]\n",
        "\n",
        "best_depth = None\n",
        "best_accuracy = 0.0\n",
        "\n",
        "for depth in depths:\n",
        "    clf = DecisionTreeClassifier(criterion='entropy', max_depth=depth, random_state=42)\n",
        "    clf.fit(X_train, y_train)\n",
        "    y_pred = clf.predict(X_test)\n",
        "    accuracy = accuracy_score(y_test, y_pred)\n",
        "    print(f\"Depth: {depth}, Accuracy: {accuracy}\")\n",
        "\n",
        "    if accuracy > best_accuracy:\n",
        "        best_depth = depth\n",
        "        best_accuracy = accuracy\n",
        "\n",
        "#printing the best hyperparameter's and corresponding best accuracy\n",
        "print(f\"Best Depth: {best_depth}, Best Accuracy: {best_accuracy}\")"
      ],
      "metadata": {
        "colab": {
          "base_uri": "https://localhost:8080/"
        },
        "id": "XwX6LzWxrxKp",
        "outputId": "b988d85a-9175-4828-8b6d-fa4bd50f6faf"
      },
      "execution_count": 52,
      "outputs": [
        {
          "output_type": "stream",
          "name": "stdout",
          "text": [
            "Depth: None, Accuracy: 0.9736842105263158\n",
            "Depth: 3, Accuracy: 0.9736842105263158\n",
            "Depth: 5, Accuracy: 0.9736842105263158\n",
            "Depth: 10, Accuracy: 0.9736842105263158\n",
            "Depth: 15, Accuracy: 0.9736842105263158\n",
            "Depth: 20, Accuracy: 0.9736842105263158\n",
            "Best Depth: None, Best Accuracy: 0.9736842105263158\n"
          ]
        }
      ]
    },
    {
      "cell_type": "code",
      "source": [
        "#showing confusion matrix\n",
        "conf_matrix = confusion_matrix(y_test, y_pred)\n",
        "print(\"Confusion Matrix:\")\n",
        "print(conf_matrix)"
      ],
      "metadata": {
        "colab": {
          "base_uri": "https://localhost:8080/"
        },
        "id": "0eP7cAH1sbyZ",
        "outputId": "70af0000-10b5-4e22-d1d0-3a4d4195664d"
      },
      "execution_count": 53,
      "outputs": [
        {
          "output_type": "stream",
          "name": "stdout",
          "text": [
            "Confusion Matrix:\n",
            "[[13  0  0]\n",
            " [ 0 15  1]\n",
            " [ 0  0  9]]\n"
          ]
        }
      ]
    },
    {
      "cell_type": "code",
      "source": [
        "#evaluating the results using appropriate evaluation measures\n",
        "precision = precision_score(y_test, y_pred, average='weighted')\n",
        "recall = recall_score(y_test, y_pred, average='weighted')\n",
        "f1 = f1_score(y_test, y_pred, average='weighted')\n",
        "\n",
        "print(\"Accuracy:\", accuracy)\n",
        "print(\"Precision:\", precision)\n",
        "print(\"Recall:\", recall)\n",
        "print(\"F1-score:\", f1)"
      ],
      "metadata": {
        "colab": {
          "base_uri": "https://localhost:8080/"
        },
        "id": "iA85qmxdsfBq",
        "outputId": "46db5fbf-c1b0-453f-8a7b-9711f9617a7d"
      },
      "execution_count": 54,
      "outputs": [
        {
          "output_type": "stream",
          "name": "stdout",
          "text": [
            "Accuracy: 0.9736842105263158\n",
            "Precision: 0.9763157894736842\n",
            "Recall: 0.9736842105263158\n",
            "F1-score: 0.9739522830846216\n"
          ]
        }
      ]
    }
  ]
}